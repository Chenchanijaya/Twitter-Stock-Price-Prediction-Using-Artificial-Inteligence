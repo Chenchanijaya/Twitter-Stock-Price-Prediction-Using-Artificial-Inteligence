{
 "cells": [
  {
   "cell_type": "markdown",
   "metadata": {},
   "source": [
    "# LSTM"
   ]
  },
  {
   "cell_type": "code",
   "execution_count": 1,
   "metadata": {},
   "outputs": [],
   "source": [
    "import pandas as pd"
   ]
  },
  {
   "cell_type": "code",
   "execution_count": 2,
   "metadata": {},
   "outputs": [],
   "source": [
    "df=pd.read_csv('twitter-stocks.csv')"
   ]
  },
  {
   "cell_type": "code",
   "execution_count": 3,
   "metadata": {},
   "outputs": [
    {
     "data": {
      "text/html": [
       "<div>\n",
       "<style scoped>\n",
       "    .dataframe tbody tr th:only-of-type {\n",
       "        vertical-align: middle;\n",
       "    }\n",
       "\n",
       "    .dataframe tbody tr th {\n",
       "        vertical-align: top;\n",
       "    }\n",
       "\n",
       "    .dataframe thead th {\n",
       "        text-align: right;\n",
       "    }\n",
       "</style>\n",
       "<table border=\"1\" class=\"dataframe\">\n",
       "  <thead>\n",
       "    <tr style=\"text-align: right;\">\n",
       "      <th></th>\n",
       "      <th>Date</th>\n",
       "      <th>Open</th>\n",
       "      <th>High</th>\n",
       "      <th>Low</th>\n",
       "      <th>Close</th>\n",
       "      <th>Adj Close</th>\n",
       "      <th>Volume</th>\n",
       "    </tr>\n",
       "  </thead>\n",
       "  <tbody>\n",
       "    <tr>\n",
       "      <th>0</th>\n",
       "      <td>2013-11-07</td>\n",
       "      <td>45.099998</td>\n",
       "      <td>50.090000</td>\n",
       "      <td>44.000000</td>\n",
       "      <td>44.900002</td>\n",
       "      <td>44.900002</td>\n",
       "      <td>117701670.0</td>\n",
       "    </tr>\n",
       "    <tr>\n",
       "      <th>1</th>\n",
       "      <td>2013-11-08</td>\n",
       "      <td>45.930000</td>\n",
       "      <td>46.939999</td>\n",
       "      <td>40.685001</td>\n",
       "      <td>41.650002</td>\n",
       "      <td>41.650002</td>\n",
       "      <td>27925307.0</td>\n",
       "    </tr>\n",
       "    <tr>\n",
       "      <th>2</th>\n",
       "      <td>2013-11-11</td>\n",
       "      <td>40.500000</td>\n",
       "      <td>43.000000</td>\n",
       "      <td>39.400002</td>\n",
       "      <td>42.900002</td>\n",
       "      <td>42.900002</td>\n",
       "      <td>16113941.0</td>\n",
       "    </tr>\n",
       "    <tr>\n",
       "      <th>3</th>\n",
       "      <td>2013-11-12</td>\n",
       "      <td>43.660000</td>\n",
       "      <td>43.779999</td>\n",
       "      <td>41.830002</td>\n",
       "      <td>41.900002</td>\n",
       "      <td>41.900002</td>\n",
       "      <td>6316755.0</td>\n",
       "    </tr>\n",
       "    <tr>\n",
       "      <th>4</th>\n",
       "      <td>2013-11-13</td>\n",
       "      <td>41.029999</td>\n",
       "      <td>42.869999</td>\n",
       "      <td>40.759998</td>\n",
       "      <td>42.599998</td>\n",
       "      <td>42.599998</td>\n",
       "      <td>8688325.0</td>\n",
       "    </tr>\n",
       "  </tbody>\n",
       "</table>\n",
       "</div>"
      ],
      "text/plain": [
       "         Date       Open       High        Low      Close  Adj Close  \\\n",
       "0  2013-11-07  45.099998  50.090000  44.000000  44.900002  44.900002   \n",
       "1  2013-11-08  45.930000  46.939999  40.685001  41.650002  41.650002   \n",
       "2  2013-11-11  40.500000  43.000000  39.400002  42.900002  42.900002   \n",
       "3  2013-11-12  43.660000  43.779999  41.830002  41.900002  41.900002   \n",
       "4  2013-11-13  41.029999  42.869999  40.759998  42.599998  42.599998   \n",
       "\n",
       "        Volume  \n",
       "0  117701670.0  \n",
       "1   27925307.0  \n",
       "2   16113941.0  \n",
       "3    6316755.0  \n",
       "4    8688325.0  "
      ]
     },
     "execution_count": 3,
     "metadata": {},
     "output_type": "execute_result"
    }
   ],
   "source": [
    "df.head()"
   ]
  },
  {
   "cell_type": "code",
   "execution_count": 4,
   "metadata": {},
   "outputs": [
    {
     "data": {
      "text/html": [
       "<div>\n",
       "<style scoped>\n",
       "    .dataframe tbody tr th:only-of-type {\n",
       "        vertical-align: middle;\n",
       "    }\n",
       "\n",
       "    .dataframe tbody tr th {\n",
       "        vertical-align: top;\n",
       "    }\n",
       "\n",
       "    .dataframe thead th {\n",
       "        text-align: right;\n",
       "    }\n",
       "</style>\n",
       "<table border=\"1\" class=\"dataframe\">\n",
       "  <thead>\n",
       "    <tr style=\"text-align: right;\">\n",
       "      <th></th>\n",
       "      <th>Date</th>\n",
       "      <th>Open</th>\n",
       "      <th>High</th>\n",
       "      <th>Low</th>\n",
       "      <th>Close</th>\n",
       "      <th>Adj Close</th>\n",
       "      <th>Volume</th>\n",
       "    </tr>\n",
       "  </thead>\n",
       "  <tbody>\n",
       "    <tr>\n",
       "      <th>2254</th>\n",
       "      <td>2022-10-21</td>\n",
       "      <td>50.000000</td>\n",
       "      <td>50.750000</td>\n",
       "      <td>49.549999</td>\n",
       "      <td>49.889999</td>\n",
       "      <td>49.889999</td>\n",
       "      <td>51209029.0</td>\n",
       "    </tr>\n",
       "    <tr>\n",
       "      <th>2255</th>\n",
       "      <td>2022-10-24</td>\n",
       "      <td>50.709999</td>\n",
       "      <td>51.860001</td>\n",
       "      <td>50.520000</td>\n",
       "      <td>51.520000</td>\n",
       "      <td>51.520000</td>\n",
       "      <td>22987553.0</td>\n",
       "    </tr>\n",
       "    <tr>\n",
       "      <th>2256</th>\n",
       "      <td>2022-10-25</td>\n",
       "      <td>52.415001</td>\n",
       "      <td>53.180000</td>\n",
       "      <td>52.200001</td>\n",
       "      <td>52.779999</td>\n",
       "      <td>52.779999</td>\n",
       "      <td>35077848.0</td>\n",
       "    </tr>\n",
       "    <tr>\n",
       "      <th>2257</th>\n",
       "      <td>2022-10-26</td>\n",
       "      <td>52.950001</td>\n",
       "      <td>53.500000</td>\n",
       "      <td>52.770000</td>\n",
       "      <td>53.349998</td>\n",
       "      <td>53.349998</td>\n",
       "      <td>28064973.0</td>\n",
       "    </tr>\n",
       "    <tr>\n",
       "      <th>2258</th>\n",
       "      <td>2022-10-27</td>\n",
       "      <td>53.910000</td>\n",
       "      <td>54.000000</td>\n",
       "      <td>53.700001</td>\n",
       "      <td>53.700001</td>\n",
       "      <td>53.700001</td>\n",
       "      <td>136345128.0</td>\n",
       "    </tr>\n",
       "  </tbody>\n",
       "</table>\n",
       "</div>"
      ],
      "text/plain": [
       "            Date       Open       High        Low      Close  Adj Close  \\\n",
       "2254  2022-10-21  50.000000  50.750000  49.549999  49.889999  49.889999   \n",
       "2255  2022-10-24  50.709999  51.860001  50.520000  51.520000  51.520000   \n",
       "2256  2022-10-25  52.415001  53.180000  52.200001  52.779999  52.779999   \n",
       "2257  2022-10-26  52.950001  53.500000  52.770000  53.349998  53.349998   \n",
       "2258  2022-10-27  53.910000  54.000000  53.700001  53.700001  53.700001   \n",
       "\n",
       "           Volume  \n",
       "2254   51209029.0  \n",
       "2255   22987553.0  \n",
       "2256   35077848.0  \n",
       "2257   28064973.0  \n",
       "2258  136345128.0  "
      ]
     },
     "execution_count": 4,
     "metadata": {},
     "output_type": "execute_result"
    }
   ],
   "source": [
    "df.tail()"
   ]
  },
  {
   "cell_type": "code",
   "execution_count": 5,
   "metadata": {},
   "outputs": [],
   "source": [
    "df1=df.reset_index()['Close']"
   ]
  },
  {
   "cell_type": "code",
   "execution_count": 6,
   "metadata": {},
   "outputs": [
    {
     "data": {
      "text/plain": [
       "0       44.900002\n",
       "1       41.650002\n",
       "2       42.900002\n",
       "3       41.900002\n",
       "4       42.599998\n",
       "          ...    \n",
       "2254    49.889999\n",
       "2255    51.520000\n",
       "2256    52.779999\n",
       "2257    53.349998\n",
       "2258    53.700001\n",
       "Name: Close, Length: 2259, dtype: float64"
      ]
     },
     "execution_count": 6,
     "metadata": {},
     "output_type": "execute_result"
    }
   ],
   "source": [
    "df1"
   ]
  },
  {
   "cell_type": "code",
   "execution_count": 7,
   "metadata": {},
   "outputs": [
    {
     "data": {
      "text/plain": [
       "[<matplotlib.lines.Line2D at 0x1d599dbb4f0>]"
      ]
     },
     "execution_count": 7,
     "metadata": {},
     "output_type": "execute_result"
    },
    {
     "data": {
      "image/png": "[encoded data removed]",
      "text/plain": [
       "<Figure size 432x288 with 1 Axes>"
      ]
     },
     "metadata": {
      "needs_background": "light"
     },
     "output_type": "display_data"
    }
   ],
   "source": [
    "import matplotlib.pyplot as plt\n",
    "plt.plot(df1)"
   ]
  },
  {
   "cell_type": "code",
   "execution_count": 8,
   "metadata": {},
   "outputs": [],
   "source": [
    "### LSTM are sensitive to the scale of the data. so we apply MinMax scaler "
   ]
  },
  {
   "cell_type": "code",
   "execution_count": 9,
   "metadata": {},
   "outputs": [],
   "source": [
    "import numpy as np"
   ]
  },
  {
   "cell_type": "code",
   "execution_count": 10,
   "metadata": {},
   "outputs": [
    {
     "data": {
      "text/plain": [
       "0       44.900002\n",
       "1       41.650002\n",
       "2       42.900002\n",
       "3       41.900002\n",
       "4       42.599998\n",
       "          ...    \n",
       "2254    49.889999\n",
       "2255    51.520000\n",
       "2256    52.779999\n",
       "2257    53.349998\n",
       "2258    53.700001\n",
       "Name: Close, Length: 2259, dtype: float64"
      ]
     },
     "execution_count": 10,
     "metadata": {},
     "output_type": "execute_result"
    }
   ],
   "source": [
    "df1"
   ]
  },
  {
   "cell_type": "code",
   "execution_count": 11,
   "metadata": {},
   "outputs": [
    {
     "data": {
      "text/plain": [
       "(2259,)"
      ]
     },
     "execution_count": 11,
     "metadata": {},
     "output_type": "execute_result"
    }
   ],
   "source": [
    "df1.shape"
   ]
  },
  {
   "cell_type": "code",
   "execution_count": 12,
   "metadata": {},
   "outputs": [],
   "source": [
    "from sklearn.preprocessing import MinMaxScaler\n",
    "scaler=MinMaxScaler(feature_range=(0,1))\n",
    "df1=scaler.fit_transform(np.array(df1).reshape(-1,1))"
   ]
  },
  {
   "cell_type": "code",
   "execution_count": 13,
   "metadata": {},
   "outputs": [
    {
     "name": "stdout",
     "output_type": "stream",
     "text": [
      "[[0.48553919]\n",
      " [0.43445463]\n",
      " [0.45410254]\n",
      " ...\n",
      " [0.60939957]\n",
      " [0.618359  ]\n",
      " [0.62386047]]\n"
     ]
    }
   ],
   "source": [
    "print(df1)"
   ]
  },
  {
   "cell_type": "code",
   "execution_count": 14,
   "metadata": {},
   "outputs": [],
   "source": [
    "##splitting dataset into train and test split\n",
    "training_size=int(len(df1)*0.65)\n",
    "test_size=len(df1)-training_size\n",
    "train_data,test_data=df1[0:training_size,:],df1[training_size:len(df1),:1]"
   ]
  },
  {
   "cell_type": "code",
   "execution_count": 15,
   "metadata": {},
   "outputs": [
    {
     "data": {
      "text/plain": [
       "(1468, 791)"
      ]
     },
     "execution_count": 15,
     "metadata": {},
     "output_type": "execute_result"
    }
   ],
   "source": [
    "training_size,test_size"
   ]
  },
  {
   "cell_type": "code",
   "execution_count": 16,
   "metadata": {},
   "outputs": [
    {
     "data": {
      "text/plain": [
       "array([[0.48553919],\n",
       "       [0.43445463],\n",
       "       [0.45410254],\n",
       "       ...,\n",
       "       [0.49182648],\n",
       "       [0.49371266],\n",
       "       [0.4754794 ]])"
      ]
     },
     "execution_count": 16,
     "metadata": {},
     "output_type": "execute_result"
    }
   ],
   "source": [
    "train_data"
   ]
  },
  {
   "cell_type": "code",
   "execution_count": 17,
   "metadata": {},
   "outputs": [],
   "source": [
    "import numpy\n",
    "# convert an array of values into a dataset matrix\n",
    "def create_dataset(dataset, time_step=1):\n",
    "    dataX, dataY = [], []\n",
    "    for i in range(len(dataset)-time_step-1):\n",
    "        a = dataset[i:(i+time_step), 0]   ###i=0, 0,1,2,3-----99   100 \n",
    "        dataX.append(a)\n",
    "        dataY.append(dataset[i + time_step, 0])\n",
    "    return numpy.array(dataX), numpy.array(dataY)"
   ]
  },
  {
   "cell_type": "code",
   "execution_count": 18,
   "metadata": {},
   "outputs": [],
   "source": [
    "# reshape into X=t,t+1,t+2,t+3 and Y=t+4\n",
    "time_step = 50\n",
    "X_train, y_train = create_dataset(train_data, time_step)\n",
    "X_test, ytest = create_dataset(test_data, time_step)"
   ]
  },
  {
   "cell_type": "code",
   "execution_count": 19,
   "metadata": {},
   "outputs": [
    {
     "name": "stdout",
     "output_type": "stream",
     "text": [
      "(1417, 50)\n",
      "(1417,)\n"
     ]
    },
    {
     "data": {
      "text/plain": [
       "(None, None)"
      ]
     },
     "execution_count": 19,
     "metadata": {},
     "output_type": "execute_result"
    }
   ],
   "source": [
    "print(X_train.shape), print(y_train.shape)"
   ]
  },
  {
   "cell_type": "code",
   "execution_count": 20,
   "metadata": {},
   "outputs": [
    {
     "name": "stdout",
     "output_type": "stream",
     "text": [
      "(740, 50)\n",
      "(740,)\n"
     ]
    },
    {
     "data": {
      "text/plain": [
       "(None, None)"
      ]
     },
     "execution_count": 20,
     "metadata": {},
     "output_type": "execute_result"
    }
   ],
   "source": [
    "print(X_test.shape), print(ytest.shape)"
   ]
  },
  {
   "cell_type": "code",
   "execution_count": 21,
   "metadata": {},
   "outputs": [],
   "source": [
    "# reshape input to be [samples, time steps, features] which is required for LSTM\n",
    "X_train =X_train.reshape(X_train.shape[0],X_train.shape[1] , 1)\n",
    "X_test = X_test.reshape(X_test.shape[0],X_test.shape[1] , 1)"
   ]
  },
  {
   "cell_type": "code",
   "execution_count": 22,
   "metadata": {},
   "outputs": [],
   "source": [
    "### Create the Stacked LSTM model\n",
    "from tensorflow.keras.models import Sequential\n",
    "from tensorflow.keras.layers import Dense\n",
    "from tensorflow.keras.layers import LSTM\n",
    "from sklearn.metrics import explained_variance_score, r2_score\n",
    "from sklearn.metrics import mean_absolute_error, mean_squared_error, r2_score, median_absolute_error"
   ]
  },
  {
   "cell_type": "code",
   "execution_count": 23,
   "metadata": {},
   "outputs": [],
   "source": [
    "model=Sequential()\n",
    "model.add(LSTM(50,return_sequences=True,input_shape=(50,1)))\n",
    "model.add(LSTM(50,return_sequences=True))\n",
    "model.add(LSTM(50))\n",
    "model.add(Dense(1))\n",
    "model.compile(loss='mean_squared_error',optimizer='adam', metrics=['accuracy'])"
   ]
  },
  {
   "cell_type": "code",
   "execution_count": 24,
   "metadata": {},
   "outputs": [
    {
     "name": "stdout",
     "output_type": "stream",
     "text": [
      "Model: \"sequential\"\n",
      "_________________________________________________________________\n",
      "Layer (type)                 Output Shape              Param #   \n",
      "=================================================================\n",
      "lstm (LSTM)                  (None, 50, 50)            10400     \n",
      "_________________________________________________________________\n",
      "lstm_1 (LSTM)                (None, 50, 50)            20200     \n",
      "_________________________________________________________________\n",
      "lstm_2 (LSTM)                (None, 50)                20200     \n",
      "_________________________________________________________________\n",
      "dense (Dense)                (None, 1)                 51        \n",
      "=================================================================\n",
      "Total params: 50,851\n",
      "Trainable params: 50,851\n",
      "Non-trainable params: 0\n",
      "_________________________________________________________________\n"
     ]
    }
   ],
   "source": [
    "model.summary()"
   ]
  },
  {
   "cell_type": "code",
   "execution_count": 25,
   "metadata": {},
   "outputs": [
    {
     "name": "stdout",
     "output_type": "stream",
     "text": [
      "Epoch 1/100\n",
      "45/45 [==============================] - 7s 76ms/step - loss: 0.0120 - accuracy: 7.0572e-04 - val_loss: 0.0078 - val_accuracy: 0.0014\n",
      "Epoch 2/100\n",
      "45/45 [==============================] - 3s 58ms/step - loss: 0.0026 - accuracy: 7.0572e-04 - val_loss: 0.0068 - val_accuracy: 0.0014\n",
      "Epoch 3/100\n",
      "45/45 [==============================] - 3s 56ms/step - loss: 0.0022 - accuracy: 7.0572e-04 - val_loss: 0.0070 - val_accuracy: 0.0014\n",
      "Epoch 4/100\n",
      "45/45 [==============================] - 2s 54ms/step - loss: 0.0020 - accuracy: 7.0572e-04 - val_loss: 0.0048 - val_accuracy: 0.0014\n",
      "Epoch 5/100\n",
      "45/45 [==============================] - 2s 54ms/step - loss: 0.0017 - accuracy: 7.0572e-04 - val_loss: 0.0049 - val_accuracy: 0.0014\n",
      "Epoch 6/100\n",
      "45/45 [==============================] - 2s 55ms/step - loss: 0.0016 - accuracy: 7.0572e-04 - val_loss: 0.0069 - val_accuracy: 0.0014\n",
      "Epoch 7/100\n",
      "45/45 [==============================] - 2s 55ms/step - loss: 0.0016 - accuracy: 7.0572e-04 - val_loss: 0.0037 - val_accuracy: 0.0014\n",
      "Epoch 8/100\n",
      "45/45 [==============================] - 2s 55ms/step - loss: 0.0015 - accuracy: 7.0572e-04 - val_loss: 0.0030 - val_accuracy: 0.0014\n",
      "Epoch 9/100\n",
      "45/45 [==============================] - 3s 59ms/step - loss: 0.0014 - accuracy: 7.0572e-04 - val_loss: 0.0027 - val_accuracy: 0.0014\n",
      "Epoch 10/100\n",
      "45/45 [==============================] - 2s 54ms/step - loss: 0.0013 - accuracy: 7.0572e-04 - val_loss: 0.0022 - val_accuracy: 0.0014\n",
      "Epoch 11/100\n",
      "45/45 [==============================] - 2s 54ms/step - loss: 0.0012 - accuracy: 7.0572e-04 - val_loss: 0.0027 - val_accuracy: 0.0014\n",
      "Epoch 12/100\n",
      "45/45 [==============================] - 2s 54ms/step - loss: 0.0010 - accuracy: 7.0572e-04 - val_loss: 0.0029 - val_accuracy: 0.0014\n",
      "Epoch 13/100\n",
      "45/45 [==============================] - 3s 57ms/step - loss: 0.0011 - accuracy: 7.0572e-04 - val_loss: 0.0020 - val_accuracy: 0.0014\n",
      "Epoch 14/100\n",
      "45/45 [==============================] - 2s 55ms/step - loss: 9.6728e-04 - accuracy: 7.0572e-04 - val_loss: 0.0019 - val_accuracy: 0.0014\n",
      "Epoch 15/100\n",
      "45/45 [==============================] - 3s 59ms/step - loss: 9.4260e-04 - accuracy: 7.0572e-04 - val_loss: 0.0023 - val_accuracy: 0.0014\n",
      "Epoch 16/100\n",
      "45/45 [==============================] - 2s 55ms/step - loss: 9.3900e-04 - accuracy: 7.0572e-04 - val_loss: 0.0033 - val_accuracy: 0.0014\n",
      "Epoch 17/100\n",
      "45/45 [==============================] - 2s 54ms/step - loss: 8.6773e-04 - accuracy: 7.0572e-04 - val_loss: 0.0022 - val_accuracy: 0.0014\n",
      "Epoch 18/100\n",
      "45/45 [==============================] - 2s 54ms/step - loss: 8.5980e-04 - accuracy: 7.0572e-04 - val_loss: 0.0013 - val_accuracy: 0.0014\n",
      "Epoch 19/100\n",
      "45/45 [==============================] - 2s 54ms/step - loss: 7.6523e-04 - accuracy: 7.0572e-04 - val_loss: 0.0014 - val_accuracy: 0.0014\n",
      "Epoch 20/100\n",
      "45/45 [==============================] - 2s 55ms/step - loss: 6.8996e-04 - accuracy: 7.0572e-04 - val_loss: 0.0013 - val_accuracy: 0.0014\n",
      "Epoch 21/100\n",
      "45/45 [==============================] - 3s 56ms/step - loss: 6.7414e-04 - accuracy: 7.0572e-04 - val_loss: 0.0013 - val_accuracy: 0.0014\n",
      "Epoch 22/100\n",
      "45/45 [==============================] - 3s 58ms/step - loss: 6.6857e-04 - accuracy: 7.0572e-04 - val_loss: 9.8629e-04 - val_accuracy: 0.0014\n",
      "Epoch 23/100\n",
      "45/45 [==============================] - 2s 54ms/step - loss: 5.9865e-04 - accuracy: 7.0572e-04 - val_loss: 0.0016 - val_accuracy: 0.0014\n",
      "Epoch 24/100\n",
      "45/45 [==============================] - 2s 54ms/step - loss: 6.5250e-04 - accuracy: 7.0572e-04 - val_loss: 8.5674e-04 - val_accuracy: 0.0014\n",
      "Epoch 25/100\n",
      "45/45 [==============================] - 2s 55ms/step - loss: 4.9005e-04 - accuracy: 7.0572e-04 - val_loss: 9.9253e-04 - val_accuracy: 0.0014\n",
      "Epoch 26/100\n",
      "45/45 [==============================] - 2s 54ms/step - loss: 5.0838e-04 - accuracy: 7.0572e-04 - val_loss: 8.2657e-04 - val_accuracy: 0.0014\n",
      "Epoch 27/100\n",
      "45/45 [==============================] - 2s 55ms/step - loss: 5.4453e-04 - accuracy: 7.0572e-04 - val_loss: 7.8102e-04 - val_accuracy: 0.0014\n",
      "Epoch 28/100\n",
      "45/45 [==============================] - 3s 59ms/step - loss: 4.8618e-04 - accuracy: 7.0572e-04 - val_loss: 7.2978e-04 - val_accuracy: 0.0014\n",
      "Epoch 29/100\n",
      "45/45 [==============================] - 2s 55ms/step - loss: 4.5047e-04 - accuracy: 7.0572e-04 - val_loss: 8.7069e-04 - val_accuracy: 0.0014\n",
      "Epoch 30/100\n",
      "45/45 [==============================] - 2s 55ms/step - loss: 4.5529e-04 - accuracy: 7.0572e-04 - val_loss: 6.9582e-04 - val_accuracy: 0.0014\n",
      "Epoch 31/100\n",
      "45/45 [==============================] - 2s 54ms/step - loss: 4.2685e-04 - accuracy: 7.0572e-04 - val_loss: 8.6095e-04 - val_accuracy: 0.0014\n",
      "Epoch 32/100\n",
      "45/45 [==============================] - 2s 54ms/step - loss: 4.6186e-04 - accuracy: 7.0572e-04 - val_loss: 6.8269e-04 - val_accuracy: 0.0014\n",
      "Epoch 33/100\n",
      "45/45 [==============================] - 2s 54ms/step - loss: 4.1507e-04 - accuracy: 7.0572e-04 - val_loss: 0.0030 - val_accuracy: 0.0014\n",
      "Epoch 34/100\n",
      "45/45 [==============================] - 3s 57ms/step - loss: 6.0778e-04 - accuracy: 7.0572e-04 - val_loss: 8.5402e-04 - val_accuracy: 0.0014\n",
      "Epoch 35/100\n",
      "45/45 [==============================] - 3s 57ms/step - loss: 4.0237e-04 - accuracy: 7.0572e-04 - val_loss: 6.5355e-04 - val_accuracy: 0.0014\n",
      "Epoch 36/100\n",
      "45/45 [==============================] - 2s 54ms/step - loss: 3.9985e-04 - accuracy: 7.0572e-04 - val_loss: 7.5264e-04 - val_accuracy: 0.0014\n",
      "Epoch 37/100\n",
      "45/45 [==============================] - 2s 55ms/step - loss: 4.1795e-04 - accuracy: 7.0572e-04 - val_loss: 0.0016 - val_accuracy: 0.0014\n",
      "Epoch 38/100\n",
      "45/45 [==============================] - 2s 55ms/step - loss: 4.5104e-04 - accuracy: 7.0572e-04 - val_loss: 6.8087e-04 - val_accuracy: 0.0014\n",
      "Epoch 39/100\n",
      "45/45 [==============================] - 2s 54ms/step - loss: 4.0859e-04 - accuracy: 7.0572e-04 - val_loss: 8.9933e-04 - val_accuracy: 0.0014\n",
      "Epoch 40/100\n",
      "45/45 [==============================] - 2s 54ms/step - loss: 4.1345e-04 - accuracy: 7.0572e-04 - val_loss: 6.5311e-04 - val_accuracy: 0.0014\n",
      "Epoch 41/100\n",
      "45/45 [==============================] - 3s 60ms/step - loss: 4.1121e-04 - accuracy: 7.0572e-04 - val_loss: 9.9794e-04 - val_accuracy: 0.0014\n",
      "Epoch 42/100\n",
      "45/45 [==============================] - 2s 54ms/step - loss: 4.0855e-04 - accuracy: 7.0572e-04 - val_loss: 8.5289e-04 - val_accuracy: 0.0014\n",
      "Epoch 43/100\n",
      "45/45 [==============================] - 2s 55ms/step - loss: 3.8861e-04 - accuracy: 7.0572e-04 - val_loss: 9.3335e-04 - val_accuracy: 0.0014\n",
      "Epoch 44/100\n",
      "45/45 [==============================] - 2s 54ms/step - loss: 4.3328e-04 - accuracy: 7.0572e-04 - val_loss: 6.5854e-04 - val_accuracy: 0.0014\n",
      "Epoch 45/100\n",
      "45/45 [==============================] - 2s 54ms/step - loss: 5.3780e-04 - accuracy: 7.0572e-04 - val_loss: 6.6637e-04 - val_accuracy: 0.0014\n",
      "Epoch 46/100\n",
      "45/45 [==============================] - 2s 53ms/step - loss: 3.8817e-04 - accuracy: 7.0572e-04 - val_loss: 6.6028e-04 - val_accuracy: 0.0014\n",
      "Epoch 47/100\n",
      "45/45 [==============================] - 3s 57ms/step - loss: 4.6433e-04 - accuracy: 7.0572e-04 - val_loss: 7.0893e-04 - val_accuracy: 0.0014\n",
      "Epoch 48/100\n",
      "45/45 [==============================] - 3s 57ms/step - loss: 4.1054e-04 - accuracy: 7.0572e-04 - val_loss: 6.5497e-04 - val_accuracy: 0.0014\n",
      "Epoch 49/100\n",
      "45/45 [==============================] - 2s 54ms/step - loss: 3.7252e-04 - accuracy: 7.0572e-04 - val_loss: 7.1980e-04 - val_accuracy: 0.0014\n",
      "Epoch 50/100\n",
      "45/45 [==============================] - 2s 54ms/step - loss: 3.6738e-04 - accuracy: 7.0572e-04 - val_loss: 6.4798e-04 - val_accuracy: 0.0014\n",
      "Epoch 51/100\n",
      "45/45 [==============================] - 2s 55ms/step - loss: 4.4079e-04 - accuracy: 7.0572e-04 - val_loss: 6.5812e-04 - val_accuracy: 0.0014\n",
      "Epoch 52/100\n",
      "45/45 [==============================] - 2s 54ms/step - loss: 3.8567e-04 - accuracy: 7.0572e-04 - val_loss: 7.6685e-04 - val_accuracy: 0.0014\n",
      "Epoch 53/100\n",
      "45/45 [==============================] - 2s 54ms/step - loss: 3.8929e-04 - accuracy: 7.0572e-04 - val_loss: 7.3699e-04 - val_accuracy: 0.0014\n",
      "Epoch 54/100\n",
      "45/45 [==============================] - 3s 60ms/step - loss: 4.3784e-04 - accuracy: 7.0572e-04 - val_loss: 0.0014 - val_accuracy: 0.0014\n"
     ]
    },
    {
     "name": "stdout",
     "output_type": "stream",
     "text": [
      "Epoch 55/100\n",
      "45/45 [==============================] - 2s 54ms/step - loss: 4.0730e-04 - accuracy: 7.0572e-04 - val_loss: 6.4813e-04 - val_accuracy: 0.0014\n",
      "Epoch 56/100\n",
      "45/45 [==============================] - 2s 54ms/step - loss: 3.9091e-04 - accuracy: 7.0572e-04 - val_loss: 0.0010 - val_accuracy: 0.0014\n",
      "Epoch 57/100\n",
      "45/45 [==============================] - 2s 54ms/step - loss: 4.2375e-04 - accuracy: 7.0572e-04 - val_loss: 7.0797e-04 - val_accuracy: 0.0014\n",
      "Epoch 58/100\n",
      "45/45 [==============================] - 2s 54ms/step - loss: 3.7628e-04 - accuracy: 7.0572e-04 - val_loss: 0.0015 - val_accuracy: 0.0014\n",
      "Epoch 59/100\n",
      "45/45 [==============================] - 2s 54ms/step - loss: 3.9649e-04 - accuracy: 7.0572e-04 - val_loss: 6.8173e-04 - val_accuracy: 0.0014\n",
      "Epoch 60/100\n",
      "45/45 [==============================] - 3s 57ms/step - loss: 3.7661e-04 - accuracy: 7.0572e-04 - val_loss: 6.4629e-04 - val_accuracy: 0.0014\n",
      "Epoch 61/100\n",
      "45/45 [==============================] - 3s 58ms/step - loss: 5.6381e-04 - accuracy: 7.0572e-04 - val_loss: 0.0011 - val_accuracy: 0.0014\n",
      "Epoch 62/100\n",
      "45/45 [==============================] - 2s 54ms/step - loss: 4.5084e-04 - accuracy: 7.0572e-04 - val_loss: 8.4089e-04 - val_accuracy: 0.0014\n",
      "Epoch 63/100\n",
      "45/45 [==============================] - 2s 54ms/step - loss: 5.4232e-04 - accuracy: 7.0572e-04 - val_loss: 0.0012 - val_accuracy: 0.0014\n",
      "Epoch 64/100\n",
      "45/45 [==============================] - 2s 55ms/step - loss: 3.5661e-04 - accuracy: 7.0572e-04 - val_loss: 9.8761e-04 - val_accuracy: 0.0014\n",
      "Epoch 65/100\n",
      "45/45 [==============================] - 2s 54ms/step - loss: 4.0053e-04 - accuracy: 7.0572e-04 - val_loss: 8.8973e-04 - val_accuracy: 0.0014\n",
      "Epoch 66/100\n",
      "45/45 [==============================] - 2s 55ms/step - loss: 3.6363e-04 - accuracy: 7.0572e-04 - val_loss: 6.5267e-04 - val_accuracy: 0.0014\n",
      "Epoch 67/100\n",
      "45/45 [==============================] - 3s 64ms/step - loss: 4.2433e-04 - accuracy: 7.0572e-04 - val_loss: 0.0010 - val_accuracy: 0.0014\n",
      "Epoch 68/100\n",
      "45/45 [==============================] - 3s 61ms/step - loss: 3.6737e-04 - accuracy: 7.0572e-04 - val_loss: 9.2341e-04 - val_accuracy: 0.0014\n",
      "Epoch 69/100\n",
      "45/45 [==============================] - 3s 60ms/step - loss: 3.5270e-04 - accuracy: 7.0572e-04 - val_loss: 7.4922e-04 - val_accuracy: 0.0014\n",
      "Epoch 70/100\n",
      "45/45 [==============================] - 2s 55ms/step - loss: 3.5506e-04 - accuracy: 7.0572e-04 - val_loss: 7.4342e-04 - val_accuracy: 0.0014\n",
      "Epoch 71/100\n",
      "45/45 [==============================] - 2s 54ms/step - loss: 3.6352e-04 - accuracy: 7.0572e-04 - val_loss: 7.4982e-04 - val_accuracy: 0.0014\n",
      "Epoch 72/100\n",
      "45/45 [==============================] - 2s 55ms/step - loss: 4.0589e-04 - accuracy: 7.0572e-04 - val_loss: 9.7482e-04 - val_accuracy: 0.0014\n",
      "Epoch 73/100\n",
      "45/45 [==============================] - 3s 60ms/step - loss: 3.6711e-04 - accuracy: 7.0572e-04 - val_loss: 6.6854e-04 - val_accuracy: 0.0014\n",
      "Epoch 74/100\n",
      "45/45 [==============================] - 2s 55ms/step - loss: 3.5828e-04 - accuracy: 7.0572e-04 - val_loss: 8.0224e-04 - val_accuracy: 0.0014\n",
      "Epoch 75/100\n",
      "45/45 [==============================] - 3s 56ms/step - loss: 3.5471e-04 - accuracy: 7.0572e-04 - val_loss: 9.3268e-04 - val_accuracy: 0.0014\n",
      "Epoch 76/100\n",
      "45/45 [==============================] - 2s 55ms/step - loss: 3.9745e-04 - accuracy: 7.0572e-04 - val_loss: 8.2583e-04 - val_accuracy: 0.0014\n",
      "Epoch 77/100\n",
      "45/45 [==============================] - 2s 55ms/step - loss: 3.4612e-04 - accuracy: 7.0572e-04 - val_loss: 8.1754e-04 - val_accuracy: 0.0014\n",
      "Epoch 78/100\n",
      "45/45 [==============================] - 2s 54ms/step - loss: 3.8091e-04 - accuracy: 7.0572e-04 - val_loss: 0.0011 - val_accuracy: 0.0014\n",
      "Epoch 79/100\n",
      "45/45 [==============================] - 3s 58ms/step - loss: 3.9627e-04 - accuracy: 7.0572e-04 - val_loss: 6.8387e-04 - val_accuracy: 0.0014\n",
      "Epoch 80/100\n",
      "45/45 [==============================] - 3s 56ms/step - loss: 3.6373e-04 - accuracy: 7.0572e-04 - val_loss: 0.0010 - val_accuracy: 0.0014\n",
      "Epoch 81/100\n",
      "45/45 [==============================] - 2s 54ms/step - loss: 3.5941e-04 - accuracy: 7.0572e-04 - val_loss: 6.6869e-04 - val_accuracy: 0.0014\n",
      "Epoch 82/100\n",
      "45/45 [==============================] - 2s 55ms/step - loss: 3.3513e-04 - accuracy: 7.0572e-04 - val_loss: 6.8902e-04 - val_accuracy: 0.0014\n",
      "Epoch 83/100\n",
      "45/45 [==============================] - 2s 55ms/step - loss: 3.5763e-04 - accuracy: 7.0572e-04 - val_loss: 0.0011 - val_accuracy: 0.0014\n",
      "Epoch 84/100\n",
      "45/45 [==============================] - 2s 54ms/step - loss: 3.6107e-04 - accuracy: 7.0572e-04 - val_loss: 7.2392e-04 - val_accuracy: 0.0014\n",
      "Epoch 85/100\n",
      "45/45 [==============================] - 2s 55ms/step - loss: 3.5219e-04 - accuracy: 7.0572e-04 - val_loss: 7.1305e-04 - val_accuracy: 0.0014\n",
      "Epoch 86/100\n",
      "45/45 [==============================] - 3s 59ms/step - loss: 3.7698e-04 - accuracy: 7.0572e-04 - val_loss: 7.9841e-04 - val_accuracy: 0.0014\n",
      "Epoch 87/100\n",
      "45/45 [==============================] - 2s 54ms/step - loss: 3.5550e-04 - accuracy: 7.0572e-04 - val_loss: 0.0017 - val_accuracy: 0.0014\n",
      "Epoch 88/100\n",
      "45/45 [==============================] - 2s 55ms/step - loss: 3.8798e-04 - accuracy: 7.0572e-04 - val_loss: 8.0553e-04 - val_accuracy: 0.0014\n",
      "Epoch 89/100\n",
      "45/45 [==============================] - 2s 54ms/step - loss: 3.6752e-04 - accuracy: 7.0572e-04 - val_loss: 0.0010 - val_accuracy: 0.0014\n",
      "Epoch 90/100\n",
      "45/45 [==============================] - 2s 54ms/step - loss: 3.3939e-04 - accuracy: 7.0572e-04 - val_loss: 7.0034e-04 - val_accuracy: 0.0014\n",
      "Epoch 91/100\n",
      "45/45 [==============================] - 2s 54ms/step - loss: 3.6276e-04 - accuracy: 7.0572e-04 - val_loss: 8.4012e-04 - val_accuracy: 0.0014\n",
      "Epoch 92/100\n",
      "45/45 [==============================] - 3s 59ms/step - loss: 3.6899e-04 - accuracy: 7.0572e-04 - val_loss: 0.0014 - val_accuracy: 0.0014\n",
      "Epoch 93/100\n",
      "45/45 [==============================] - 2s 55ms/step - loss: 3.4603e-04 - accuracy: 7.0572e-04 - val_loss: 6.8660e-04 - val_accuracy: 0.0014\n",
      "Epoch 94/100\n",
      "45/45 [==============================] - 2s 54ms/step - loss: 3.5236e-04 - accuracy: 7.0572e-04 - val_loss: 7.5435e-04 - val_accuracy: 0.0014\n",
      "Epoch 95/100\n",
      "45/45 [==============================] - 2s 55ms/step - loss: 3.9899e-04 - accuracy: 7.0572e-04 - val_loss: 8.0203e-04 - val_accuracy: 0.0014\n",
      "Epoch 96/100\n",
      "45/45 [==============================] - 3s 60ms/step - loss: 3.5529e-04 - accuracy: 7.0572e-04 - val_loss: 8.0675e-04 - val_accuracy: 0.0014\n",
      "Epoch 97/100\n",
      "45/45 [==============================] - 3s 56ms/step - loss: 4.2022e-04 - accuracy: 7.0572e-04 - val_loss: 9.4792e-04 - val_accuracy: 0.0014\n",
      "Epoch 98/100\n",
      "45/45 [==============================] - 3s 57ms/step - loss: 3.3248e-04 - accuracy: 7.0572e-04 - val_loss: 7.8144e-04 - val_accuracy: 0.0014\n",
      "Epoch 99/100\n",
      "45/45 [==============================] - 3s 57ms/step - loss: 3.8612e-04 - accuracy: 7.0572e-04 - val_loss: 6.9649e-04 - val_accuracy: 0.0014\n",
      "Epoch 100/100\n",
      "45/45 [==============================] - 2s 56ms/step - loss: 3.5304e-04 - accuracy: 7.0572e-04 - val_loss: 7.5110e-04 - val_accuracy: 0.0014\n"
     ]
    },
    {
     "data": {
      "text/plain": [
       "<keras.callbacks.History at 0x1d5abec5fd0>"
      ]
     },
     "execution_count": 25,
     "metadata": {},
     "output_type": "execute_result"
    }
   ],
   "source": [
    "model.fit(X_train,y_train,validation_data=(X_test,ytest),epochs=100,batch_size=32,verbose=1)"
   ]
  },
  {
   "cell_type": "code",
   "execution_count": 26,
   "metadata": {},
   "outputs": [],
   "source": [
    "import tensorflow as tf"
   ]
  },
  {
   "cell_type": "code",
   "execution_count": 28,
   "metadata": {},
   "outputs": [],
   "source": [
    "### Lets Do the prediction and check performance metrics\n",
    "train_predict=model.predict(X_train)\n",
    "test_predict=model.predict(X_test)"
   ]
  },
  {
   "cell_type": "code",
   "execution_count": 29,
   "metadata": {},
   "outputs": [],
   "source": [
    "##Transformback to original form\n",
    "train_predict=scaler.inverse_transform(train_predict)\n",
    "test_predict=scaler.inverse_transform(test_predict)"
   ]
  },
  {
   "cell_type": "code",
   "execution_count": 30,
   "metadata": {},
   "outputs": [
    {
     "name": "stdout",
     "output_type": "stream",
     "text": [
      "Mean Absolute Error is  44.853632781444496\n"
     ]
    }
   ],
   "source": [
    "MAE= mean_absolute_error(ytest,test_predict)\n",
    "print('Mean Absolute Error is ',MAE)"
   ]
  },
  {
   "cell_type": "code",
   "execution_count": 31,
   "metadata": {},
   "outputs": [
    {
     "name": "stdout",
     "output_type": "stream",
     "text": [
      "Mean Squared Error :  2156.6183035140734\n"
     ]
    }
   ],
   "source": [
    "MSE = mean_squared_error(ytest,test_predict)\n",
    "print('Mean Squared Error : ',MSE)"
   ]
  },
  {
   "cell_type": "code",
   "execution_count": 33,
   "metadata": {},
   "outputs": [
    {
     "name": "stdout",
     "output_type": "stream",
     "text": [
      "Median absolute Error :  42.29984885441735\n"
     ]
    }
   ],
   "source": [
    "MeAE=median_absolute_error(ytest,test_predict)\n",
    "print('Median absolute Error : ',MeAE)"
   ]
  },
  {
   "cell_type": "code",
   "execution_count": 34,
   "metadata": {},
   "outputs": [
    {
     "name": "stdout",
     "output_type": "stream",
     "text": [
      "Explained Variance is :  -3596.487862415702\n"
     ]
    }
   ],
   "source": [
    "EVS=explained_variance_score(ytest,test_predict)\n",
    "print('Explained Variance is : ',EVS)"
   ]
  },
  {
   "cell_type": "code",
   "execution_count": null,
   "metadata": {},
   "outputs": [],
   "source": []
  },
  {
   "cell_type": "code",
   "execution_count": null,
   "metadata": {},
   "outputs": [],
   "source": []
  },
  {
   "cell_type": "code",
   "execution_count": null,
   "metadata": {},
   "outputs": [],
   "source": []
  }
 ],
 "metadata": {
  "kernelspec": {
   "display_name": "Python 3",
   "language": "python",
   "name": "python3"
  },
  "language_info": {
   "codemirror_mode": {
    "name": "ipython",
    "version": 3
   },
   "file_extension": ".py",
   "mimetype": "text/x-python",
   "name": "python",
   "nbconvert_exporter": "python",
   "pygments_lexer": "ipython3",
   "version": "3.8.5"
  }
 },
 "nbformat": 4,
 "nbformat_minor": 2
}
